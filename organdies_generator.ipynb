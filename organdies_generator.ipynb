{
 "cells": [
  {
   "cell_type": "markdown",
   "id": "2172658c",
   "metadata": {},
   "source": [
    "## 2D Generator ##"
   ]
  },
  {
   "cell_type": "code",
   "execution_count": 1,
   "id": "36664e13",
   "metadata": {},
   "outputs": [],
   "source": [
    "import math\n",
    "import matplotlib.pyplot as plt\n",
    "import numpy as np\n",
    "import pandas as pd\n",
    "\n",
    "from skimage.draw import ellipse, ellipse_perimeter\n",
    "from skimage.measure import label, regionprops, regionprops_table\n",
    "from skimage.transform import rotate"
   ]
  },
  {
   "cell_type": "code",
   "execution_count": 9,
   "id": "2a2310e3",
   "metadata": {},
   "outputs": [
    {
     "name": "stdout",
     "output_type": "stream",
     "text": [
      "y,x,l_r,s_r: 430 289 198 119\n",
      "after adjustment y,x,l_r,s_r: 430 289 170 119\n"
     ]
    },
    {
     "data": {
      "text/plain": [
       "4"
      ]
     },
     "execution_count": 9,
     "metadata": {},
     "output_type": "execute_result"
    }
   ],
   "source": [
    "image = np.zeros((600, 600)) # the size of canvas\n",
    "\n",
    "y, x = np.random.randint(low=50, high=550, size=(1,2)).tolist()[0]\n",
    "l_r, s_r = np.random.randint(low=100,high=200,size=(1,2)).tolist()[0] # the lagest number(excluded, should smaller than canvas), \n",
    "print('y,x,l_r,s_r:',y,x,l_r,s_r)\n",
    "\n",
    "if y < l_r or l_r > image.shape[1]-y:\n",
    "    l_r = min(y,image.shape[1]-y)\n",
    "    \n",
    "if x < s_r or s_r > image.shape[0]-x:\n",
    "    s_r = min(x,image.shape[0]-x)\n",
    "\n",
    "print('after adjustment y,x,l_r,s_r:',y,x,l_r,s_r)\n",
    "# size = (the size of the generated narray)\n",
    "\n",
    "rr, cc = ellipse(y, x, l_r, s_r, shape = image.shape)\n",
    "image[rr, cc] = 1\n",
    "# rr, cc = ellipse_perimeter(y, x, l_r, s_r, shape = image.shape)\n",
    "# image[rr, cc] = 1\n",
    "\n",
    "\n",
    "# lumen generator\n",
    "rr_lumen, cc_lumen = ellipse(y, x, l_r-40, s_r-40, shape = image.shape)\n",
    "# rr_lumen, cc_lumen = ellipse_perimeter(y, x, l_r-45, s_r-40, shape = image.shape)\n",
    "image[rr_lumen, cc_lumen] = 2\n",
    "\n",
    "# rotate\n",
    "image = rotate(image, angle = -45, order = 0) # clockwise, parameter angle, order, rotate_flag\n",
    "\n",
    "# second image\n",
    "rr, cc = ellipse(100, 100, 80, 70)\n",
    "image[rr, cc] = 1\n",
    "\n",
    "rr_lumen, cc_lumen = ellipse(100, 100, 40, 30)\n",
    "image[rr_lumen, cc_lumen] = 2\n",
    "\n",
    "label_img, label_num= label(image,return_num=True) # Label connected regions of an integer array.\n",
    "regions = regionprops(label_img) # Measure properties of labeled image regions.\n",
    "\n",
    "\n",
    "label_num"
   ]
  },
  {
   "cell_type": "code",
   "execution_count": 10,
   "id": "1364cb0a",
   "metadata": {
    "scrolled": false
   },
   "outputs": [
    {
     "name": "stdout",
     "output_type": "stream",
     "text": [
      "minor_axis_length: 154.629161911519\n",
      "minor_axis_length: 59.815382369349315\n",
      "minor_axis_length: 298.68112735644866\n",
      "minor_axis_length: 157.9112928432104\n"
     ]
    },
    {
     "data": {
      "image/png": "[encoded data removed]",
      "text/plain": [
       "<Figure size 432x288 with 1 Axes>"
      ]
     },
     "metadata": {
      "needs_background": "light"
     },
     "output_type": "display_data"
    }
   ],
   "source": [
    "fig, ax = plt.subplots() \n",
    "ax.imshow(image, cmap=plt.cm.gray)\n",
    "\n",
    "for props in regions:\n",
    "    y0, x0 = props.centroid # x0 is behind y0\n",
    "    # print(y0,x0)\n",
    "    orientation = props.orientation\n",
    "    \n",
    "    x1 = x0 + math.cos(orientation) * 0.5 * props.minor_axis_length\n",
    "    y1 = y0 - math.sin(orientation) * 0.5 * props.minor_axis_length\n",
    "    \n",
    "    x2 = x0 - math.sin(orientation) * 0.5 * props.major_axis_length\n",
    "    y2 = y0 - math.cos(orientation) * 0.5 * props.major_axis_length\n",
    "    \n",
    "    print('minor_axis_length:',props.minor_axis_length)\n",
    "#   print(props.major_axis_length)\n",
    "\n",
    "    ax.plot((x0, x1), (y0, y1), '-r', linewidth=2.5) \n",
    "\n",
    "    ax.plot((x0, x2), (y0, y2), '-r', linewidth=2.5)\n",
    "\n",
    "\n",
    "    minr, minc, maxr, maxc = props.bbox\n",
    "    bx = (minc, maxc, maxc, minc, minc)\n",
    "    by = (minr, minr, maxr, maxr, minr)\n",
    "    ax.plot(bx, by, '-b', linewidth=2.5)\n",
    "\n",
    "ax.axis((0, image.shape[0], 0, image.shape[1]))\n",
    "plt.show()"
   ]
  },
  {
   "cell_type": "code",
   "execution_count": 127,
   "id": "b79dac8c",
   "metadata": {},
   "outputs": [],
   "source": [
    "props = regionprops_table(label_img, properties=('centroid',\n",
    "                                                 'orientation',\n",
    "                                                 'major_axis_length',\n",
    "                                                 'minor_axis_length',\n",
    "                                                 'label'))"
   ]
  },
  {
   "cell_type": "code",
   "execution_count": 128,
   "id": "5cdafd85",
   "metadata": {},
   "outputs": [
    {
     "data": {
      "text/html": [
       "<div>\n",
       "<style scoped>\n",
       "    .dataframe tbody tr th:only-of-type {\n",
       "        vertical-align: middle;\n",
       "    }\n",
       "\n",
       "    .dataframe tbody tr th {\n",
       "        vertical-align: top;\n",
       "    }\n",
       "\n",
       "    .dataframe thead th {\n",
       "        text-align: right;\n",
       "    }\n",
       "</style>\n",
       "<table border=\"1\" class=\"dataframe\">\n",
       "  <thead>\n",
       "    <tr style=\"text-align: right;\">\n",
       "      <th></th>\n",
       "      <th>centroid-0</th>\n",
       "      <th>centroid-1</th>\n",
       "      <th>orientation</th>\n",
       "      <th>major_axis_length</th>\n",
       "      <th>minor_axis_length</th>\n",
       "      <th>label</th>\n",
       "    </tr>\n",
       "  </thead>\n",
       "  <tbody>\n",
       "    <tr>\n",
       "      <th>0</th>\n",
       "      <td>100.000000</td>\n",
       "      <td>100.000000</td>\n",
       "      <td>0.000000</td>\n",
       "      <td>175.430971</td>\n",
       "      <td>154.629162</td>\n",
       "      <td>1</td>\n",
       "    </tr>\n",
       "    <tr>\n",
       "      <th>1</th>\n",
       "      <td>100.000000</td>\n",
       "      <td>100.000000</td>\n",
       "      <td>0.000000</td>\n",
       "      <td>79.803653</td>\n",
       "      <td>59.815382</td>\n",
       "      <td>2</td>\n",
       "    </tr>\n",
       "    <tr>\n",
       "      <th>2</th>\n",
       "      <td>294.551713</td>\n",
       "      <td>233.045320</td>\n",
       "      <td>-0.783661</td>\n",
       "      <td>307.882990</td>\n",
       "      <td>249.082059</td>\n",
       "      <td>3</td>\n",
       "    </tr>\n",
       "    <tr>\n",
       "      <th>3</th>\n",
       "      <td>294.547047</td>\n",
       "      <td>233.018463</td>\n",
       "      <td>-0.787109</td>\n",
       "      <td>182.188941</td>\n",
       "      <td>125.676477</td>\n",
       "      <td>4</td>\n",
       "    </tr>\n",
       "  </tbody>\n",
       "</table>\n",
       "</div>"
      ],
      "text/plain": [
       "   centroid-0  centroid-1  orientation  major_axis_length  minor_axis_length  \\\n",
       "0  100.000000  100.000000     0.000000         175.430971         154.629162   \n",
       "1  100.000000  100.000000     0.000000          79.803653          59.815382   \n",
       "2  294.551713  233.045320    -0.783661         307.882990         249.082059   \n",
       "3  294.547047  233.018463    -0.787109         182.188941         125.676477   \n",
       "\n",
       "   label  \n",
       "0      1  \n",
       "1      2  \n",
       "2      3  \n",
       "3      4  "
      ]
     },
     "execution_count": 128,
     "metadata": {},
     "output_type": "execute_result"
    }
   ],
   "source": [
    "pd.DataFrame(props)"
   ]
  }
 ],
 "metadata": {
  "kernelspec": {
   "display_name": "Python 3.9.12 ('base')",
   "language": "python",
   "name": "python3"
  },
  "language_info": {
   "codemirror_mode": {
    "name": "ipython",
    "version": 3
   },
   "file_extension": ".py",
   "mimetype": "text/x-python",
   "name": "python",
   "nbconvert_exporter": "python",
   "pygments_lexer": "ipython3",
   "version": "3.9.12"
  },
  "vscode": {
   "interpreter": {
    "hash": "ccff9bb46fe4a4f847a5891e5076ecab04582ed373b2982d0dd939d2dc0c4254"
   }
  }
 },
 "nbformat": 4,
 "nbformat_minor": 5
}
